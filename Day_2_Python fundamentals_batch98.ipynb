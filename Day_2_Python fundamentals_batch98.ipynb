{
 "cells": [
  {
   "cell_type": "code",
   "execution_count": 1,
   "id": "b62787c7-c2b6-432e-8d9b-7cc2fad7ec62",
   "metadata": {},
   "outputs": [
    {
     "name": "stdout",
     "output_type": "stream",
     "text": [
      "Hello all welcome to python fundamentals batch98!!\n"
     ]
    }
   ],
   "source": [
    "print(\"Hello all welcome to python fundamentals batch98!!\")"
   ]
  },
  {
   "cell_type": "code",
   "execution_count": 2,
   "id": "d7eae605-b599-4d89-b60c-b97290ede7d2",
   "metadata": {},
   "outputs": [
    {
     "name": "stdout",
     "output_type": "stream",
     "text": [
      "Hello world!!\n"
     ]
    }
   ],
   "source": [
    "print(\"Hello world!!\")"
   ]
  },
  {
   "cell_type": "code",
   "execution_count": null,
   "id": "41e7596c-7fbe-432f-8665-4193b9add074",
   "metadata": {},
   "outputs": [],
   "source": []
  },
  {
   "cell_type": "code",
   "execution_count": 1,
   "id": "478dc947-1c84-4621-92d4-e93451454663",
   "metadata": {},
   "outputs": [],
   "source": [
    "a = 3\n",
    "b =2"
   ]
  },
  {
   "cell_type": "code",
   "execution_count": 2,
   "id": "e98ef724-524f-4c2e-b069-a0ebdb150677",
   "metadata": {},
   "outputs": [
    {
     "name": "stdout",
     "output_type": "stream",
     "text": [
      "5\n"
     ]
    }
   ],
   "source": [
    "c = a+b\n",
    "print(c)"
   ]
  },
  {
   "cell_type": "code",
   "execution_count": 3,
   "id": "b4aad153-16d1-4843-b509-fab1dbb24197",
   "metadata": {},
   "outputs": [
    {
     "ename": "SyntaxError",
     "evalue": "invalid syntax (2336819580.py, line 1)",
     "output_type": "error",
     "traceback": [
      "\u001b[1;36m  Cell \u001b[1;32mIn[3], line 1\u001b[1;36m\u001b[0m\n\u001b[1;33m    first name = \"satish\"\u001b[0m\n\u001b[1;37m          ^\u001b[0m\n\u001b[1;31mSyntaxError\u001b[0m\u001b[1;31m:\u001b[0m invalid syntax\n"
     ]
    }
   ],
   "source": [
    "first name = \"satish\" # no namespaces for declaring the variable name\n",
    "print(first name)"
   ]
  },
  {
   "cell_type": "code",
   "execution_count": 4,
   "id": "482ec0be-8c47-46a4-835c-303564e6412e",
   "metadata": {},
   "outputs": [
    {
     "name": "stdout",
     "output_type": "stream",
     "text": [
      "satish\n"
     ]
    }
   ],
   "source": [
    "firstname = \"satish\"\n",
    "print(firstname)"
   ]
  },
  {
   "cell_type": "code",
   "execution_count": 5,
   "id": "e3bf02dd-b233-4dc4-a8e1-92e133b7ff51",
   "metadata": {},
   "outputs": [
    {
     "ename": "SyntaxError",
     "evalue": "invalid decimal literal (827213783.py, line 2)",
     "output_type": "error",
     "traceback": [
      "\u001b[1;36m  Cell \u001b[1;32mIn[5], line 2\u001b[1;36m\u001b[0m\n\u001b[1;33m    1name = \"satish\"\u001b[0m\n\u001b[1;37m    ^\u001b[0m\n\u001b[1;31mSyntaxError\u001b[0m\u001b[1;31m:\u001b[0m invalid decimal literal\n"
     ]
    }
   ],
   "source": [
    "# variable name should not start with number\n",
    "1name = \"satish\"\n",
    "print(1name)"
   ]
  },
  {
   "cell_type": "code",
   "execution_count": 6,
   "id": "367660b9-f7eb-4720-ac2c-5006e8a14b58",
   "metadata": {},
   "outputs": [
    {
     "name": "stdout",
     "output_type": "stream",
     "text": [
      "satish\n"
     ]
    }
   ],
   "source": [
    "name1 = \"satish\"\n",
    "print(name1)"
   ]
  },
  {
   "cell_type": "code",
   "execution_count": 7,
   "id": "421b16b8-6a3f-4e1e-8c31-2597c7cab632",
   "metadata": {},
   "outputs": [
    {
     "ename": "SyntaxError",
     "evalue": "invalid syntax (4102533541.py, line 2)",
     "output_type": "error",
     "traceback": [
      "\u001b[1;36m  Cell \u001b[1;32mIn[7], line 2\u001b[1;36m\u001b[0m\n\u001b[1;33m    name@ = \"satish\"\u001b[0m\n\u001b[1;37m          ^\u001b[0m\n\u001b[1;31mSyntaxError\u001b[0m\u001b[1;31m:\u001b[0m invalid syntax\n"
     ]
    }
   ],
   "source": [
    "#variable name should not contain any special characters\n",
    "name@ = \"satish\"\n",
    "print(name@)"
   ]
  },
  {
   "cell_type": "code",
   "execution_count": null,
   "id": "2dd1ff8b-0ec5-4eb2-915d-114e75aaa0a7",
   "metadata": {},
   "outputs": [],
   "source": [
    "#Datatypes\n",
    "1. strings----str\n",
    "2. Number-----int,floats(decimal)--0.1,0.2\n",
    "3. lists----list\n",
    "4. tuples---tuple\n",
    "5. dictiorie---dicr"
   ]
  },
  {
   "cell_type": "code",
   "execution_count": null,
   "id": "21129a52-cc3e-45ea-8ea3-07b9e4c7377a",
   "metadata": {},
   "outputs": [],
   "source": [
    "#classification of datatypes\n",
    "mutable----edit/alter\n",
    "immutable---cannot edit/alter"
   ]
  },
  {
   "cell_type": "code",
   "execution_count": 9,
   "id": "b25488c2-495f-4b61-8b53-e39c4189eb54",
   "metadata": {},
   "outputs": [
    {
     "ename": "SyntaxError",
     "evalue": "invalid syntax (3196429328.py, line 2)",
     "output_type": "error",
     "traceback": [
      "\u001b[1;36m  Cell \u001b[1;32mIn[9], line 2\u001b[1;36m\u001b[0m\n\u001b[1;33m    A string is a series of charcters declared in quotes\u001b[0m\n\u001b[1;37m      ^\u001b[0m\n\u001b[1;31mSyntaxError\u001b[0m\u001b[1;31m:\u001b[0m invalid syntax\n"
     ]
    }
   ],
   "source": [
    "#string datatype\n",
    "A string is a series of charcters declared in quotes\n",
    "->single quote\n",
    "->Double quote\n",
    "\n",
    "name = 'satish'\n",
    "print(name)"
   ]
  },
  {
   "cell_type": "code",
   "execution_count": null,
   "id": "1cfbd5b3-0abf-41f1-9ecc-dd00b5660f5a",
   "metadata": {},
   "outputs": [],
   "source": [
    "name = 'satish'\n",
    "print(name)"
   ]
  }
 ],
 "metadata": {
  "kernelspec": {
   "display_name": "Python [conda env:base] *",
   "language": "python",
   "name": "conda-base-py"
  },
  "language_info": {
   "codemirror_mode": {
    "name": "ipython",
    "version": 3
   },
   "file_extension": ".py",
   "mimetype": "text/x-python",
   "name": "python",
   "nbconvert_exporter": "python",
   "pygments_lexer": "ipython3",
   "version": "3.13.5"
  }
 },
 "nbformat": 4,
 "nbformat_minor": 5
}
